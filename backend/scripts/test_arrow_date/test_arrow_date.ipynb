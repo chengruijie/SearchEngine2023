{
 "cells": [
  {
   "cell_type": "code",
   "execution_count": 1,
   "metadata": {
    "collapsed": true,
    "ExecuteTime": {
     "start_time": "2023-04-26T14:50:22.752497Z",
     "end_time": "2023-04-26T14:50:22.766158Z"
    }
   },
   "outputs": [],
   "source": [
    "import arrow"
   ]
  },
  {
   "cell_type": "code",
   "execution_count": 15,
   "outputs": [
    {
     "name": "stdout",
     "output_type": "stream",
     "text": [
      "1972-12-22\n"
     ]
    },
    {
     "data": {
      "text/plain": "datetime.date"
     },
     "execution_count": 15,
     "metadata": {},
     "output_type": "execute_result"
    }
   ],
   "source": [
    "date_str = \"1972年12月22日\"\n",
    "date = arrow.get(date_str, \"YYYY年M月D日\")\n",
    "print(date.date())\n",
    "type(date.date())"
   ],
   "metadata": {
    "collapsed": false,
    "ExecuteTime": {
     "start_time": "2023-04-26T17:21:00.927346Z",
     "end_time": "2023-04-26T17:21:00.932346Z"
    }
   }
  },
  {
   "cell_type": "code",
   "execution_count": 19,
   "outputs": [
    {
     "name": "stdout",
     "output_type": "stream",
     "text": [
      "1972-12-01\n"
     ]
    },
    {
     "data": {
      "text/plain": "datetime.date"
     },
     "execution_count": 19,
     "metadata": {},
     "output_type": "execute_result"
    }
   ],
   "source": [
    "bad_date_str = \"1972年12月**日\"\n",
    "date = arrow.get(bad_date_str, \"YYYY年M月D日\")\n",
    "print(date.date())\n",
    "type(date.date())"
   ],
   "metadata": {
    "collapsed": false,
    "ExecuteTime": {
     "start_time": "2023-04-26T17:21:35.991219Z",
     "end_time": "2023-04-26T17:21:35.995844Z"
    }
   }
  },
  {
   "cell_type": "code",
   "execution_count": 20,
   "outputs": [
    {
     "name": "stdout",
     "output_type": "stream",
     "text": [
      "1972-12-01\n"
     ]
    },
    {
     "data": {
      "text/plain": "datetime.date"
     },
     "execution_count": 20,
     "metadata": {},
     "output_type": "execute_result"
    }
   ],
   "source": [
    "bad_date_str = \"1972年12月\"\n",
    "date = arrow.get(bad_date_str, \"YYYY年M月\")\n",
    "print(date.date())\n",
    "type(date.date())"
   ],
   "metadata": {
    "collapsed": false,
    "ExecuteTime": {
     "start_time": "2023-04-26T17:21:45.856431Z",
     "end_time": "2023-04-26T17:21:45.861836Z"
    }
   }
  },
  {
   "cell_type": "code",
   "execution_count": 24,
   "outputs": [
    {
     "data": {
      "text/plain": "'1972年12月'"
     },
     "execution_count": 24,
     "metadata": {},
     "output_type": "execute_result"
    }
   ],
   "source": [
    "bad_date_str[:bad_date_str.index('月') + 1]"
   ],
   "metadata": {
    "collapsed": false,
    "ExecuteTime": {
     "start_time": "2023-04-26T17:22:50.618100Z",
     "end_time": "2023-04-26T17:22:50.620208Z"
    }
   }
  },
  {
   "cell_type": "code",
   "execution_count": null,
   "outputs": [],
   "source": [],
   "metadata": {
    "collapsed": false
   }
  }
 ],
 "metadata": {
  "kernelspec": {
   "display_name": "Python 3",
   "language": "python",
   "name": "python3"
  },
  "language_info": {
   "codemirror_mode": {
    "name": "ipython",
    "version": 2
   },
   "file_extension": ".py",
   "mimetype": "text/x-python",
   "name": "python",
   "nbconvert_exporter": "python",
   "pygments_lexer": "ipython2",
   "version": "2.7.6"
  }
 },
 "nbformat": 4,
 "nbformat_minor": 0
}
