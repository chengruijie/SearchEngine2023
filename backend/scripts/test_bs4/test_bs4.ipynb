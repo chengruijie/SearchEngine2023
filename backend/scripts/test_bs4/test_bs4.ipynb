{
 "cells": [
  {
   "cell_type": "code",
   "execution_count": 25,
   "metadata": {
    "collapsed": true,
    "ExecuteTime": {
     "start_time": "2023-04-26T15:13:30.185841Z",
     "end_time": "2023-04-26T15:13:30.186840Z"
    }
   },
   "outputs": [],
   "source": [
    "import os\n",
    "import soupsieve\n",
    "import bs4\n",
    "from bs4 import BeautifulSoup"
   ]
  },
  {
   "cell_type": "code",
   "execution_count": 33,
   "outputs": [],
   "source": [
    "with open('18697.xml', 'r', encoding='utf-8') as f:\n",
    "    xml_file = f.read()\n",
    "with open('wrong_cases/49489.xml', 'r', encoding='utf-8') as f:\n",
    "    bad_xml_file = f.read()"
   ],
   "metadata": {
    "collapsed": false,
    "ExecuteTime": {
     "start_time": "2023-04-26T15:28:48.052742Z",
     "end_time": "2023-04-26T15:28:48.056749Z"
    }
   }
  },
  {
   "cell_type": "code",
   "execution_count": 8,
   "outputs": [],
   "source": [
    "soup = BeautifulSoup(xml_file, 'xml')"
   ],
   "metadata": {
    "collapsed": false,
    "ExecuteTime": {
     "start_time": "2023-04-26T11:58:26.842976Z",
     "end_time": "2023-04-26T11:58:26.885525Z"
    }
   }
  },
  {
   "cell_type": "code",
   "execution_count": 12,
   "outputs": [
    {
     "data": {
      "text/plain": "'法院'"
     },
     "execution_count": 12,
     "metadata": {},
     "output_type": "execute_result"
    }
   ],
   "source": [
    "soup.find('WSZZDW').get('value')"
   ],
   "metadata": {
    "collapsed": false,
    "ExecuteTime": {
     "start_time": "2023-04-26T11:59:14.707211Z",
     "end_time": "2023-04-26T11:59:14.711346Z"
    }
   }
  },
  {
   "cell_type": "code",
   "execution_count": 27,
   "outputs": [
    {
     "ename": "AttributeError",
     "evalue": "'NoneType' object has no attribute 'get'",
     "output_type": "error",
     "traceback": [
      "\u001B[1;31m---------------------------------------------------------------------------\u001B[0m",
      "\u001B[1;31mAttributeError\u001B[0m                            Traceback (most recent call last)",
      "Cell \u001B[1;32mIn[27], line 1\u001B[0m\n\u001B[1;32m----> 1\u001B[0m \u001B[43msoup\u001B[49m\u001B[38;5;241;43m.\u001B[39;49m\u001B[43mfind\u001B[49m\u001B[43m(\u001B[49m\u001B[38;5;124;43m'\u001B[39;49m\u001B[38;5;124;43mWSZZDW1\u001B[39;49m\u001B[38;5;124;43m'\u001B[39;49m\u001B[43m)\u001B[49m\u001B[38;5;241;43m.\u001B[39;49m\u001B[43mget\u001B[49m(\u001B[38;5;124m'\u001B[39m\u001B[38;5;124mvalue\u001B[39m\u001B[38;5;124m'\u001B[39m)\n",
      "\u001B[1;31mAttributeError\u001B[0m: 'NoneType' object has no attribute 'get'"
     ]
    }
   ],
   "source": [
    "soup.find('WSZZDW1').get('value')"
   ],
   "metadata": {
    "collapsed": false,
    "ExecuteTime": {
     "start_time": "2023-04-26T14:58:37.714607Z",
     "end_time": "2023-04-26T14:58:37.717607Z"
    }
   }
  },
  {
   "cell_type": "code",
   "execution_count": 30,
   "outputs": [],
   "source": [
    "# 包装\n",
    "default_node = bs4.element.Tag(name='default', attrs={'value': ''})\n",
    "\n",
    "\n",
    "def find_node(soup, query):\n",
    "    result = soup.find(query)\n",
    "    return result or default_node"
   ],
   "metadata": {
    "collapsed": false,
    "ExecuteTime": {
     "start_time": "2023-04-26T15:15:43.801296Z",
     "end_time": "2023-04-26T15:15:43.806296Z"
    }
   }
  },
  {
   "cell_type": "code",
   "execution_count": 32,
   "outputs": [
    {
     "data": {
      "text/plain": "'法院'"
     },
     "execution_count": 32,
     "metadata": {},
     "output_type": "execute_result"
    }
   ],
   "source": [
    "find_node(soup, 'WSZZDW').get('value')"
   ],
   "metadata": {
    "collapsed": false,
    "ExecuteTime": {
     "start_time": "2023-04-26T15:15:47.244503Z",
     "end_time": "2023-04-26T15:15:47.247117Z"
    }
   }
  },
  {
   "cell_type": "code",
   "execution_count": 34,
   "outputs": [],
   "source": [
    "bad_soup = BeautifulSoup(bad_xml_file, 'xml')"
   ],
   "metadata": {
    "collapsed": false,
    "ExecuteTime": {
     "start_time": "2023-04-26T15:28:57.561932Z",
     "end_time": "2023-04-26T15:28:57.570933Z"
    }
   }
  },
  {
   "cell_type": "code",
   "execution_count": 48,
   "outputs": [],
   "source": [
    "node = soup.find_all('DSR')[0]"
   ],
   "metadata": {
    "collapsed": false,
    "ExecuteTime": {
     "start_time": "2023-04-26T16:12:20.059430Z",
     "end_time": "2023-04-26T16:12:20.063429Z"
    }
   }
  },
  {
   "cell_type": "code",
   "execution_count": 49,
   "outputs": [
    {
     "data": {
      "text/plain": "<DSR nameCN=\"当事人\" value=\"原告：韦斌姬，女，1972年9月22日出生，汉族，住东阳市。 被告：韦斌强，男，1969年6月17日出生，汉族，住东阳市。 被告：杜满萍，女，1968年11月25日出生，汉族，住东阳市。 委托代理人：陈菊华、贾凌珂。\">\n<QSF nameCN=\"起诉方\" value=\"原告：韦斌姬，女，1972年9月22日出生，汉族，住东阳市。\">\n<SSCYR nameCN=\"诉讼参与人\" value=\"韦斌姬\"/>\n<SSSF nameCN=\"诉讼身份\" value=\"原告\"/>\n<DSRLX nameCN=\"当事人类型\" value=\"自然人\"/>\n<XB nameCN=\"性别\" value=\"女\"/>\n<MZ nameCN=\"民族\" value=\"汉族\"/>\n<CSRQ nameCN=\"出生日期\" value=\"1972年9月22日\"/>\n<DSRDZ nameCN=\"当事人地址\" value=\"东阳市\"/>\n<GJ nameCN=\"国籍\" value=\"中国\"/>\n<DSRLB nameCN=\"当事人类别\" value=\"原告\"/>\n<BSSSDW nameCN=\"本审诉讼地位\" value=\"原告\"/>\n<ZRRSF nameCN=\"自然人身份\" value=\"其他\"/>\n</QSF>\n<YSF nameCN=\"应诉方\" value=\"被告：韦斌强，男，1969年6月17日出生，汉族，住东阳市。\">\n<SSCYR nameCN=\"诉讼参与人\" value=\"韦斌强\"/>\n<SSSF nameCN=\"诉讼身份\" value=\"被告\"/>\n<DSRLX nameCN=\"当事人类型\" value=\"自然人\"/>\n<XB nameCN=\"性别\" value=\"男\"/>\n<MZ nameCN=\"民族\" value=\"汉族\"/>\n<CSRQ nameCN=\"出生日期\" value=\"1969年6月17日\"/>\n<DSRDZ nameCN=\"当事人地址\" value=\"东阳市\"/>\n<GJ nameCN=\"国籍\" value=\"中国\"/>\n<DSRLB nameCN=\"当事人类别\" value=\"被告\"/>\n<BSSSDW nameCN=\"本审诉讼地位\" value=\"被告\"/>\n<ZRRSF nameCN=\"自然人身份\" value=\"其他\"/>\n</YSF>\n<YSF nameCN=\"应诉方\" value=\"被告：杜满萍，女，1968年11月25日出生，汉族，住东阳市。\">\n<SSCYR nameCN=\"诉讼参与人\" value=\"杜满萍\"/>\n<SSSF nameCN=\"诉讼身份\" value=\"被告\"/>\n<DSRLX nameCN=\"当事人类型\" value=\"自然人\"/>\n<XB nameCN=\"性别\" value=\"女\"/>\n<MZ nameCN=\"民族\" value=\"汉族\"/>\n<CSRQ nameCN=\"出生日期\" value=\"1968年11月25日\"/>\n<DSRDZ nameCN=\"当事人地址\" value=\"东阳市\"/>\n<GJ nameCN=\"国籍\" value=\"中国\"/>\n<DSRLB nameCN=\"当事人类别\" value=\"被告\"/>\n<BSSSDW nameCN=\"本审诉讼地位\" value=\"被告\"/>\n<ZRRSF nameCN=\"自然人身份\" value=\"其他\"/>\n</YSF>\n<DLR nameCN=\"代理人\" value=\"委托代理人：陈菊华、贾凌珂。\">\n<SSCYR nameCN=\"诉讼参与人\" value=\"陈菊华\"/>\n<SSSF nameCN=\"诉讼身份\" value=\"委托代理人\"/>\n<DSRLX nameCN=\"当事人类型\" value=\"自然人\"/>\n<GJ nameCN=\"国籍\" value=\"中国\"/>\n<DSRLB nameCN=\"当事人类别\" value=\"代理人\"/>\n<CYRSSDW nameCN=\"参与人诉讼地位\" value=\"诉讼代理人\"/>\n<DLDXJH nameCN=\"代理对象集合\">\n<DLDX nameCN=\"代理对象\" value=\"韦斌强\"/>\n<DLDX nameCN=\"代理对象\" value=\"杜满萍\"/>\n</DLDXJH>\n<DLZL nameCN=\"代理种类\" value=\"委托代理\"/>\n<DLRBHRZYLX nameCN=\"代理人辩护人职业类型\" value=\"非法务人员\"/>\n<BHRHSSDLRLX nameCN=\"辩护人或诉讼代理人类型\" value=\"法院许可的其他公民\"/>\n<ZRRSF nameCN=\"自然人身份\" value=\"其他\"/>\n</DLR>\n<DLR nameCN=\"代理人\" value=\"委托代理人：陈菊华、贾凌珂。\">\n<SSCYR nameCN=\"诉讼参与人\" value=\"贾凌珂\"/>\n<SSSF nameCN=\"诉讼身份\" value=\"委托代理人\"/>\n<DSRLX nameCN=\"当事人类型\" value=\"自然人\"/>\n<GJ nameCN=\"国籍\" value=\"中国\"/>\n<DSRLB nameCN=\"当事人类别\" value=\"代理人\"/>\n<CYRSSDW nameCN=\"参与人诉讼地位\" value=\"诉讼代理人\"/>\n<DLDXJH nameCN=\"代理对象集合\">\n<DLDX nameCN=\"代理对象\" value=\"韦斌强\"/>\n<DLDX nameCN=\"代理对象\" value=\"杜满萍\"/>\n</DLDXJH>\n<DLZL nameCN=\"代理种类\" value=\"委托代理\"/>\n<DLRBHRZYLX nameCN=\"代理人辩护人职业类型\" value=\"非法务人员\"/>\n<BHRHSSDLRLX nameCN=\"辩护人或诉讼代理人类型\" value=\"法院许可的其他公民\"/>\n<ZRRSF nameCN=\"自然人身份\" value=\"其他\"/>\n</DLR>\n<GTSS nameCN=\"共同诉讼\" value=\"是\"/>\n</DSR>"
     },
     "execution_count": 49,
     "metadata": {},
     "output_type": "execute_result"
    }
   ],
   "source": [
    "node"
   ],
   "metadata": {
    "collapsed": false,
    "ExecuteTime": {
     "start_time": "2023-04-26T16:12:20.562602Z",
     "end_time": "2023-04-26T16:12:20.569472Z"
    }
   }
  },
  {
   "cell_type": "code",
   "execution_count": 52,
   "outputs": [
    {
     "data": {
      "text/plain": "[<YSF nameCN=\"应诉方\" value=\"被告：韦斌强，男，1969年6月17日出生，汉族，住东阳市。\">\n <SSCYR nameCN=\"诉讼参与人\" value=\"韦斌强\"/>\n <SSSF nameCN=\"诉讼身份\" value=\"被告\"/>\n <DSRLX nameCN=\"当事人类型\" value=\"自然人\"/>\n <XB nameCN=\"性别\" value=\"男\"/>\n <MZ nameCN=\"民族\" value=\"汉族\"/>\n <CSRQ nameCN=\"出生日期\" value=\"1969年6月17日\"/>\n <DSRDZ nameCN=\"当事人地址\" value=\"东阳市\"/>\n <GJ nameCN=\"国籍\" value=\"中国\"/>\n <DSRLB nameCN=\"当事人类别\" value=\"被告\"/>\n <BSSSDW nameCN=\"本审诉讼地位\" value=\"被告\"/>\n <ZRRSF nameCN=\"自然人身份\" value=\"其他\"/>\n </YSF>,\n <YSF nameCN=\"应诉方\" value=\"被告：杜满萍，女，1968年11月25日出生，汉族，住东阳市。\">\n <SSCYR nameCN=\"诉讼参与人\" value=\"杜满萍\"/>\n <SSSF nameCN=\"诉讼身份\" value=\"被告\"/>\n <DSRLX nameCN=\"当事人类型\" value=\"自然人\"/>\n <XB nameCN=\"性别\" value=\"女\"/>\n <MZ nameCN=\"民族\" value=\"汉族\"/>\n <CSRQ nameCN=\"出生日期\" value=\"1968年11月25日\"/>\n <DSRDZ nameCN=\"当事人地址\" value=\"东阳市\"/>\n <GJ nameCN=\"国籍\" value=\"中国\"/>\n <DSRLB nameCN=\"当事人类别\" value=\"被告\"/>\n <BSSSDW nameCN=\"本审诉讼地位\" value=\"被告\"/>\n <ZRRSF nameCN=\"自然人身份\" value=\"其他\"/>\n </YSF>]"
     },
     "execution_count": 52,
     "metadata": {},
     "output_type": "execute_result"
    }
   ],
   "source": [
    "node.findChildren('YSF')"
   ],
   "metadata": {
    "collapsed": false,
    "ExecuteTime": {
     "start_time": "2023-04-26T16:12:31.110513Z",
     "end_time": "2023-04-26T16:12:31.112642Z"
    }
   }
  },
  {
   "cell_type": "code",
   "execution_count": 54,
   "outputs": [],
   "source": [
    "jcy_soup = BeautifulSoup(open('../resources/static/19102.xml', 'r', encoding='utf-8'), 'xml')"
   ],
   "metadata": {
    "collapsed": false,
    "ExecuteTime": {
     "start_time": "2023-04-26T16:43:48.943459Z",
     "end_time": "2023-04-26T16:43:48.951457Z"
    }
   }
  },
  {
   "cell_type": "code",
   "execution_count": 57,
   "outputs": [
    {
     "data": {
      "text/plain": "<CUS_BGRXX nameCN=\"被告人信息\" value=\"被告人汤某某，男性，1984年＊＊月＊＊日出生，居民身份证号码3203241984＊＊＊＊＊＊＊＊，汉族，初中文化，户籍所在地江苏省睢宁县＊＊镇＊＊村＊＊号，因涉嫌污染环境罪，经佛山市公安局南海分局决定，于2016年12月9日被佛山市公安局南海分局刑事拘留；因涉嫌犯有污染环境罪，经佛山市南海区人民检察院批准，于2016年12月30日被佛山市公安局南海分局逮捕；因涉嫌犯有污染环境罪，经佛山市公安局南海分局决定，于2017年1月6日被佛山市公安局南海分局取保候审。经我院决定，于2017年3月1日继续取保候审。\">\n<XM nameCN=\"姓名\" value=\"汤某某\"/>\n<XB nameCN=\"性别\" value=\"男\"/>\n<GJ nameCN=\"国籍\" value=\"中国\"/>\n<SFZJ nameCN=\"身份证件\">\n<ZL nameCN=\"种类\" value=\"身份证\"/>\n<HM nameCN=\"号码\" value=\"3203241984＊＊＊＊＊＊＊＊\"/>\n</SFZJ>\n<CSRQ nameCN=\"出生日期\" value=\"1984年＊＊月＊＊日\"/>\n<MZ nameCN=\"民族\" value=\"汉族\"/>\n<WHCD nameCN=\"文化程度\" value=\"初中\"/>\n<ZZMM nameCN=\"政治面貌\" value=\"群众\"/>\n<HJSZD nameCN=\"户籍所在地\" value=\"江苏省睢宁县＊＊镇＊＊村＊＊号\">\n<HJXZQH nameCN=\"户籍行政区划\" value=\"江苏\"/>\n</HJSZD>\n<QZCSXX nameCN=\"强制措施信息\" value=\"，于2016年12月9日被佛山市公安局南海分局刑事拘留；因涉嫌犯有污染环境罪，经佛山市南海区人民检察院批准，于2016年12月30日被佛山市公安局南海分局逮捕；因涉嫌犯有污染环境罪，经佛山市公安局南海分局决定，于2017年1月6日被佛山市公安局南海分局取保候审。经我院决定，于2017年3月1日继续取保候审。\">\n<JYRQ nameCN=\"羁押日期\" value=\"2016年12月9日\"/>\n<R_QZCS nameCN=\"强制措施记录\">\n<CSZL nameCN=\"措施种类\" value=\"取保候审\"/>\n<SSRQ nameCN=\"实施日期\" value=\"2017年1月6日\"/>\n<SSJG nameCN=\"实施机关\" value=\"佛山市公安局南海分局\"/>\n</R_QZCS>\n</QZCSXX>\n<DSRLX nameCN=\"当事人类型\" value=\"自然人\"/>\n</CUS_BGRXX>"
     },
     "execution_count": 57,
     "metadata": {},
     "output_type": "execute_result"
    }
   ],
   "source": [
    "jcy_soup.find_all('CUS_BGRXX')[0]"
   ],
   "metadata": {
    "collapsed": false,
    "ExecuteTime": {
     "start_time": "2023-04-26T16:44:27.706506Z",
     "end_time": "2023-04-26T16:44:27.712121Z"
    }
   }
  },
  {
   "cell_type": "code",
   "execution_count": 62,
   "outputs": [
    {
     "data": {
      "text/plain": "0"
     },
     "execution_count": 62,
     "metadata": {},
     "output_type": "execute_result"
    }
   ],
   "source": [
    "int('0')"
   ],
   "metadata": {
    "collapsed": false,
    "ExecuteTime": {
     "start_time": "2023-04-26T17:49:51.173174Z",
     "end_time": "2023-04-26T17:49:51.177175Z"
    }
   }
  },
  {
   "cell_type": "code",
   "execution_count": null,
   "outputs": [],
   "source": [],
   "metadata": {
    "collapsed": false
   }
  }
 ],
 "metadata": {
  "kernelspec": {
   "display_name": "Python 3",
   "language": "python",
   "name": "python3"
  },
  "language_info": {
   "codemirror_mode": {
    "name": "ipython",
    "version": 2
   },
   "file_extension": ".py",
   "mimetype": "text/x-python",
   "name": "python",
   "nbconvert_exporter": "python",
   "pygments_lexer": "ipython2",
   "version": "2.7.6"
  }
 },
 "nbformat": 4,
 "nbformat_minor": 0
}
