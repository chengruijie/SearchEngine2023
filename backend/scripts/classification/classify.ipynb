{
 "cells": [
  {
   "cell_type": "code",
   "execution_count": 1,
   "metadata": {
    "collapsed": true,
    "ExecuteTime": {
     "start_time": "2023-04-26T01:13:17.764353Z",
     "end_time": "2023-04-26T01:13:17.852943Z"
    }
   },
   "outputs": [],
   "source": [
    "import os\n",
    "from bs4 import BeautifulSoup\n",
    "import xml.etree.ElementTree as ET"
   ]
  },
  {
   "cell_type": "code",
   "execution_count": 2,
   "outputs": [],
   "source": [
    "def get_xml_data(xml_file):\n",
    "    tree = ET.parse(xml_file)\n",
    "    root = tree.getroot()\n",
    "    return root"
   ],
   "metadata": {
    "collapsed": false,
    "ExecuteTime": {
     "start_time": "2023-04-26T01:13:29.499387Z",
     "end_time": "2023-04-26T01:13:29.515497Z"
    }
   }
  },
  {
   "cell_type": "code",
   "execution_count": 57,
   "outputs": [
    {
     "data": {
      "text/plain": "68417"
     },
     "execution_count": 57,
     "metadata": {},
     "output_type": "execute_result"
    }
   ],
   "source": [
    "all_doc = []\n",
    "for file in os.listdir('../resources/static'):\n",
    "    if file.endswith('.xml'):\n",
    "        all_doc.append(file)\n",
    "len(all_doc)"
   ],
   "metadata": {
    "collapsed": false,
    "ExecuteTime": {
     "start_time": "2023-04-26T01:56:10.971055Z",
     "end_time": "2023-04-26T01:56:11.023126Z"
    }
   }
  },
  {
   "cell_type": "code",
   "execution_count": 7,
   "outputs": [],
   "source": [
    "import json\n",
    "json.dump(all_doc, open('all_doc.json', 'w'))"
   ],
   "metadata": {
    "collapsed": false,
    "ExecuteTime": {
     "start_time": "2023-04-26T01:15:22.140388Z",
     "end_time": "2023-04-26T01:15:22.168933Z"
    }
   }
  },
  {
   "cell_type": "code",
   "execution_count": 33,
   "outputs": [
    {
     "data": {
      "text/plain": "68417"
     },
     "execution_count": 33,
     "metadata": {},
     "output_type": "execute_result"
    }
   ],
   "source": [
    "all_doc = json.load(open('all_doc.json'))\n",
    "len(all_doc)"
   ],
   "metadata": {
    "collapsed": false,
    "ExecuteTime": {
     "start_time": "2023-04-26T01:43:12.764171Z",
     "end_time": "2023-04-26T01:43:12.798212Z"
    }
   }
  },
  {
   "cell_type": "code",
   "execution_count": 34,
   "outputs": [],
   "source": [
    "CPWS = []   # 裁判文书\n",
    "BAD = []    # 无效文书"
   ],
   "metadata": {
    "collapsed": false,
    "ExecuteTime": {
     "start_time": "2023-04-26T01:43:21.336717Z",
     "end_time": "2023-04-26T01:43:21.374607Z"
    }
   }
  },
  {
   "cell_type": "code",
   "execution_count": 35,
   "outputs": [
    {
     "name": "stdout",
     "output_type": "stream",
     "text": [
      "68417/19780"
     ]
    }
   ],
   "source": [
    "idx = 0\n",
    "# 从all_doc中删除裁判文书\n",
    "for file in os.listdir('../resources/static'):\n",
    "    idx += 1\n",
    "    print(f'\\r{idx}/{len(all_doc)}', end='')\n",
    "    if file.endswith('.xml'):\n",
    "        try:\n",
    "            root = get_xml_data('../resources/static/' + file)\n",
    "        except:\n",
    "            BAD.append(file)\n",
    "            all_doc.remove(file)\n",
    "            continue\n",
    "        if root.find('QW') is not None and root.find('QW').find('WS')  is not None and root.find('QW').find('WS').find('FYWSZL') is not None:\n",
    "            if root.find('QW').find('WS').find('FYWSZL').get('value') == '裁判文书':\n",
    "                all_doc.remove(file)\n",
    "                CPWS.append(file)"
   ],
   "metadata": {
    "collapsed": false,
    "ExecuteTime": {
     "start_time": "2023-04-26T01:43:28.512650Z",
     "end_time": "2023-04-26T01:45:12.352945Z"
    }
   }
  },
  {
   "cell_type": "code",
   "execution_count": 42,
   "outputs": [
    {
     "data": {
      "text/plain": "66440"
     },
     "execution_count": 42,
     "metadata": {},
     "output_type": "execute_result"
    }
   ],
   "source": [
    "json.dump(CPWS, open('CPWS.json', 'w'))\n",
    "json.dump(BAD, open('BAD.json', 'w'))\n",
    "json.dump(all_doc, open('all_doc.json', 'w'))"
   ],
   "metadata": {
    "collapsed": false,
    "ExecuteTime": {
     "start_time": "2023-04-26T01:47:19.608526Z",
     "end_time": "2023-04-26T01:47:19.664581Z"
    }
   }
  },
  {
   "cell_type": "code",
   "execution_count": 43,
   "outputs": [
    {
     "name": "stdout",
     "output_type": "stream",
     "text": [
      "1977\n",
      "66440\n",
      "32\n"
     ]
    }
   ],
   "source": [
    "print(len(all_doc))\n",
    "print(len(CPWS))\n",
    "print(len(BAD))"
   ],
   "metadata": {
    "collapsed": false,
    "ExecuteTime": {
     "start_time": "2023-04-26T01:48:14.407855Z",
     "end_time": "2023-04-26T01:48:14.415798Z"
    }
   }
  },
  {
   "cell_type": "code",
   "execution_count": 46,
   "outputs": [
    {
     "data": {
      "text/plain": "1977"
     },
     "execution_count": 46,
     "metadata": {},
     "output_type": "execute_result"
    }
   ],
   "source": [
    "all_doc = json.load(open('all_doc.json'))\n",
    "len(all_doc)"
   ],
   "metadata": {
    "collapsed": false,
    "ExecuteTime": {
     "start_time": "2023-04-26T01:51:05.382276Z",
     "end_time": "2023-04-26T01:51:05.413262Z"
    }
   }
  },
  {
   "cell_type": "code",
   "execution_count": 70,
   "outputs": [],
   "source": [
    "JDS = []    # 决定书"
   ],
   "metadata": {
    "collapsed": false,
    "ExecuteTime": {
     "start_time": "2023-04-26T01:59:04.590835Z",
     "end_time": "2023-04-26T01:59:04.599343Z"
    }
   }
  },
  {
   "cell_type": "code",
   "execution_count": 71,
   "outputs": [
    {
     "name": "stdout",
     "output_type": "stream",
     "text": [
      "1945/1945"
     ]
    }
   ],
   "source": [
    "idx = 0\n",
    "# 从all_doc中删除决定书\n",
    "for file in all_doc:\n",
    "    idx += 1\n",
    "    print(f'\\r{idx}/{len(all_doc)}', end='')\n",
    "    if file.endswith('.xml'):\n",
    "        root = get_xml_data('../resources/static/' + file)\n",
    "        if root.find('QW') is not None and root.find('QW').find('WS')  is not None and root.find('QW').find('WS').find('FYWSZL') is not None:\n",
    "            if root.find('QW').find('WS').find('FYWSZL').get('value') == '决定书':\n",
    "                JDS.append(file)"
   ],
   "metadata": {
    "collapsed": false,
    "ExecuteTime": {
     "start_time": "2023-04-26T01:59:07.974211Z",
     "end_time": "2023-04-26T01:59:08.904690Z"
    }
   }
  },
  {
   "cell_type": "code",
   "execution_count": 72,
   "outputs": [],
   "source": [
    "json.dump(JDS, open('JDS.json', 'w'))"
   ],
   "metadata": {
    "collapsed": false,
    "ExecuteTime": {
     "start_time": "2023-04-26T01:59:10.921127Z",
     "end_time": "2023-04-26T01:59:10.933729Z"
    }
   }
  },
  {
   "cell_type": "code",
   "execution_count": 73,
   "outputs": [
    {
     "name": "stdout",
     "output_type": "stream",
     "text": [
      "1945\n",
      "31\n"
     ]
    }
   ],
   "source": [
    "print(len(all_doc))\n",
    "print(len(JDS))"
   ],
   "metadata": {
    "collapsed": false,
    "ExecuteTime": {
     "start_time": "2023-04-26T01:59:11.543461Z",
     "end_time": "2023-04-26T01:59:11.553511Z"
    }
   }
  },
  {
   "cell_type": "code",
   "execution_count": 74,
   "outputs": [],
   "source": [
    "TZS = []    # 通知书"
   ],
   "metadata": {
    "collapsed": false,
    "ExecuteTime": {
     "start_time": "2023-04-26T01:59:13.984056Z",
     "end_time": "2023-04-26T01:59:13.993569Z"
    }
   }
  },
  {
   "cell_type": "code",
   "execution_count": 75,
   "outputs": [
    {
     "name": "stdout",
     "output_type": "stream",
     "text": [
      "1945/1945"
     ]
    }
   ],
   "source": [
    "idx = 0\n",
    "# 从all_doc中删除通知书\n",
    "for file in all_doc:\n",
    "    idx += 1\n",
    "    print(f'\\r{idx}/{len(all_doc)}', end='')\n",
    "    if file.endswith('.xml'):\n",
    "        root = get_xml_data('../resources/static/' + file)\n",
    "        if root.find('QW') is not None and root.find('QW').find('WS')  is not None and root.find('QW').find('WS').find('FYWSZL') is not None:\n",
    "            if root.find('QW').find('WS').find('FYWSZL').get('value') == '通知书':\n",
    "                TZS.append(file)"
   ],
   "metadata": {
    "collapsed": false,
    "ExecuteTime": {
     "start_time": "2023-04-26T01:59:14.829673Z",
     "end_time": "2023-04-26T01:59:15.851440Z"
    }
   }
  },
  {
   "cell_type": "code",
   "execution_count": 76,
   "outputs": [],
   "source": [
    "json.dump(TZS, open('TZS.json', 'w'))"
   ],
   "metadata": {
    "collapsed": false,
    "ExecuteTime": {
     "start_time": "2023-04-26T01:59:18.704061Z",
     "end_time": "2023-04-26T01:59:18.719144Z"
    }
   }
  },
  {
   "cell_type": "code",
   "execution_count": 77,
   "outputs": [
    {
     "name": "stdout",
     "output_type": "stream",
     "text": [
      "1945\n",
      "1\n"
     ]
    }
   ],
   "source": [
    "print(len(TZS))"
   ],
   "metadata": {
    "collapsed": false,
    "ExecuteTime": {
     "start_time": "2023-04-26T01:59:19.653831Z",
     "end_time": "2023-04-26T01:59:19.682536Z"
    }
   }
  },
  {
   "cell_type": "code",
   "execution_count": 78,
   "outputs": [],
   "source": [
    "QSZ = []    # 起诉状"
   ],
   "metadata": {
    "collapsed": false,
    "ExecuteTime": {
     "start_time": "2023-04-26T01:59:44.185155Z",
     "end_time": "2023-04-26T01:59:44.194165Z"
    }
   }
  },
  {
   "cell_type": "code",
   "execution_count": 79,
   "outputs": [
    {
     "name": "stdout",
     "output_type": "stream",
     "text": [
      "1945/1945"
     ]
    }
   ],
   "source": [
    "idx = 0\n",
    "# 从all_doc中删除起诉状\n",
    "for file in all_doc:\n",
    "    idx += 1\n",
    "    print(f'\\r{idx}/{len(all_doc)}', end='')\n",
    "    if file.endswith('.xml'):\n",
    "        root = get_xml_data('../resources/static/' + file)\n",
    "        if root.find('QW') is not None and root.find('QW').find('WS')  is not None and root.find('QW').find('WS').find('FYWSZL') is not None:\n",
    "            if root.find('QW').find('WS').find('FYWSZL').get('value') == '起诉状':\n",
    "                QSZ.append(file)"
   ],
   "metadata": {
    "collapsed": false,
    "ExecuteTime": {
     "start_time": "2023-04-26T02:00:05.090466Z",
     "end_time": "2023-04-26T02:00:05.987681Z"
    }
   }
  },
  {
   "cell_type": "code",
   "execution_count": 80,
   "outputs": [],
   "source": [
    "json.dump(QSZ, open('QSZ.json', 'w'))"
   ],
   "metadata": {
    "collapsed": false,
    "ExecuteTime": {
     "start_time": "2023-04-26T02:00:15.943612Z",
     "end_time": "2023-04-26T02:00:15.976689Z"
    }
   }
  },
  {
   "cell_type": "code",
   "execution_count": 81,
   "outputs": [
    {
     "name": "stdout",
     "output_type": "stream",
     "text": [
      "2\n"
     ]
    }
   ],
   "source": [
    "print(len(QSZ))"
   ],
   "metadata": {
    "collapsed": false,
    "ExecuteTime": {
     "start_time": "2023-04-26T02:00:30.636438Z",
     "end_time": "2023-04-26T02:00:30.672489Z"
    }
   }
  },
  {
   "cell_type": "markdown",
   "source": [
    "## 检察院文书"
   ],
   "metadata": {
    "collapsed": false
   }
  },
  {
   "cell_type": "code",
   "execution_count": 82,
   "outputs": [],
   "source": [
    "QSS = []    # 起诉书"
   ],
   "metadata": {
    "collapsed": false,
    "ExecuteTime": {
     "start_time": "2023-04-26T02:02:23.529788Z",
     "end_time": "2023-04-26T02:02:23.541293Z"
    }
   }
  },
  {
   "cell_type": "code",
   "execution_count": 83,
   "outputs": [
    {
     "name": "stdout",
     "output_type": "stream",
     "text": [
      "1945/1945"
     ]
    }
   ],
   "source": [
    "idx = 0\n",
    "# 从all_doc中删除起诉状\n",
    "for file in all_doc:\n",
    "    idx += 1\n",
    "    print(f'\\r{idx}/{len(all_doc)}', end='')\n",
    "    if file.endswith('.xml'):\n",
    "        root = get_xml_data('../resources/static/' + file)\n",
    "        if root.find('QW') is not None and root.find('QW').find('WS')  is not None and root.find('QW').find('WS').find('WSMC') is not None:\n",
    "            if root.find('QW').find('WS').find('WSMC').get('value') == '起诉书':\n",
    "                QSS.append(file)"
   ],
   "metadata": {
    "collapsed": false,
    "ExecuteTime": {
     "start_time": "2023-04-26T02:03:56.209608Z",
     "end_time": "2023-04-26T02:03:57.141785Z"
    }
   }
  },
  {
   "cell_type": "code",
   "execution_count": 84,
   "outputs": [],
   "source": [
    "json.dump(QSS, open('QSS.json', 'w'))"
   ],
   "metadata": {
    "collapsed": false,
    "ExecuteTime": {
     "start_time": "2023-04-26T02:03:59.080339Z",
     "end_time": "2023-04-26T02:03:59.100978Z"
    }
   }
  },
  {
   "cell_type": "code",
   "execution_count": 85,
   "outputs": [
    {
     "name": "stdout",
     "output_type": "stream",
     "text": [
      "1579\n"
     ]
    }
   ],
   "source": [
    "print(len(QSS))"
   ],
   "metadata": {
    "collapsed": false,
    "ExecuteTime": {
     "start_time": "2023-04-26T02:04:00.963595Z",
     "end_time": "2023-04-26T02:04:00.998643Z"
    }
   }
  },
  {
   "cell_type": "code",
   "execution_count": 86,
   "outputs": [],
   "source": [
    "BQSS = []    # 不起诉书"
   ],
   "metadata": {
    "collapsed": false,
    "ExecuteTime": {
     "start_time": "2023-04-26T02:05:37.543663Z",
     "end_time": "2023-04-26T02:05:37.561681Z"
    }
   }
  },
  {
   "cell_type": "code",
   "execution_count": 91,
   "outputs": [
    {
     "name": "stdout",
     "output_type": "stream",
     "text": [
      "1945/1945"
     ]
    }
   ],
   "source": [
    "idx = 0\n",
    "# 从all_doc中删除起诉状\n",
    "for file in all_doc:\n",
    "    idx += 1\n",
    "    print(f'\\r{idx}/{len(all_doc)}', end='')\n",
    "    if file.endswith('.xml'):\n",
    "        root = get_xml_data('../resources/static/' + file)\n",
    "        if root.find('QW') is not None and root.find('QW').find('WS')  is not None and root.find('QW').find('WS').find('WSZL') is not None:\n",
    "            if root.find('QW').find('WS').find('WSZL').get('value') == '不起诉书':\n",
    "                BQSS.append(file)"
   ],
   "metadata": {
    "collapsed": false,
    "ExecuteTime": {
     "start_time": "2023-04-26T02:07:04.607179Z",
     "end_time": "2023-04-26T02:07:05.505317Z"
    }
   }
  },
  {
   "cell_type": "code",
   "execution_count": 92,
   "outputs": [],
   "source": [
    "json.dump(BQSS, open('BQSS.json', 'w'))"
   ],
   "metadata": {
    "collapsed": false,
    "ExecuteTime": {
     "start_time": "2023-04-26T02:07:06.247053Z",
     "end_time": "2023-04-26T02:07:06.258657Z"
    }
   }
  },
  {
   "cell_type": "code",
   "execution_count": 93,
   "outputs": [
    {
     "name": "stdout",
     "output_type": "stream",
     "text": [
      "327\n"
     ]
    }
   ],
   "source": [
    "print(len(BQSS))"
   ],
   "metadata": {
    "collapsed": false,
    "ExecuteTime": {
     "start_time": "2023-04-26T02:07:06.761749Z",
     "end_time": "2023-04-26T02:07:06.774032Z"
    }
   }
  },
  {
   "cell_type": "code",
   "execution_count": 95,
   "outputs": [],
   "source": [
    "ZYJWZXAL = []    # 暂予监外执行案例"
   ],
   "metadata": {
    "collapsed": false,
    "ExecuteTime": {
     "start_time": "2023-04-26T02:09:21.811656Z",
     "end_time": "2023-04-26T02:09:21.818651Z"
    }
   }
  },
  {
   "cell_type": "code",
   "execution_count": 96,
   "outputs": [
    {
     "name": "stdout",
     "output_type": "stream",
     "text": [
      "1945/1945"
     ]
    }
   ],
   "source": [
    "idx = 0\n",
    "# 从all_doc中删除起诉状\n",
    "for file in all_doc:\n",
    "    idx += 1\n",
    "    print(f'\\r{idx}/{len(all_doc)}', end='')\n",
    "    if file.endswith('.xml'):\n",
    "        root = get_xml_data('../resources/static/' + file)\n",
    "        if root.find('QW') is not None and root.find('QW').find('WS')  is not None and root.find('QW').find('WS').find('WSZL') is not None:\n",
    "            if root.find('QW').find('WS').find('WSZL').get('value') == '暂予监外执行案例':\n",
    "                ZYJWZXAL.append(file)"
   ],
   "metadata": {
    "collapsed": false,
    "ExecuteTime": {
     "start_time": "2023-04-26T02:09:22.770133Z",
     "end_time": "2023-04-26T02:09:23.711026Z"
    }
   }
  },
  {
   "cell_type": "code",
   "execution_count": 97,
   "outputs": [],
   "source": [
    "json.dump(ZYJWZXAL, open('ZYJWZXAL.json', 'w'))"
   ],
   "metadata": {
    "collapsed": false,
    "ExecuteTime": {
     "start_time": "2023-04-26T02:09:27.623469Z",
     "end_time": "2023-04-26T02:09:27.645622Z"
    }
   }
  },
  {
   "cell_type": "code",
   "execution_count": 98,
   "outputs": [
    {
     "name": "stdout",
     "output_type": "stream",
     "text": [
      "1\n"
     ]
    }
   ],
   "source": [
    "print(len(ZYJWZXAL))"
   ],
   "metadata": {
    "collapsed": false,
    "ExecuteTime": {
     "start_time": "2023-04-26T02:09:29.287241Z",
     "end_time": "2023-04-26T02:09:29.374624Z"
    }
   }
  },
  {
   "cell_type": "code",
   "execution_count": 99,
   "outputs": [],
   "source": [
    "PJS = []    # 判决书"
   ],
   "metadata": {
    "collapsed": false,
    "ExecuteTime": {
     "start_time": "2023-04-26T02:10:26.380496Z",
     "end_time": "2023-04-26T02:10:26.402094Z"
    }
   }
  },
  {
   "cell_type": "code",
   "execution_count": 100,
   "outputs": [
    {
     "name": "stdout",
     "output_type": "stream",
     "text": [
      "66440/1945"
     ]
    }
   ],
   "source": [
    "idx = 0\n",
    "# 从all_doc中删除起诉状\n",
    "for file in CPWS:\n",
    "    idx += 1\n",
    "    print(f'\\r{idx}/{len(CPWS)}', end='')\n",
    "    if file.endswith('.xml'):\n",
    "        root = get_xml_data('../resources/static/' + file)\n",
    "        if root.find('QW') is not None and root.find('QW').find('WS')  is not None and root.find('QW').find('WS').find('WSZL') is not None:\n",
    "            if root.find('QW').find('WS').find('WSZL').get('value') == '判决书':\n",
    "                PJS.append(file)"
   ],
   "metadata": {
    "collapsed": false,
    "ExecuteTime": {
     "start_time": "2023-04-26T02:10:48.527857Z",
     "end_time": "2023-04-26T02:12:27.649936Z"
    }
   }
  },
  {
   "cell_type": "code",
   "execution_count": 101,
   "outputs": [],
   "source": [
    "json.dump(PJS, open('PJS.json', 'w'))"
   ],
   "metadata": {
    "collapsed": false,
    "ExecuteTime": {
     "start_time": "2023-04-26T02:12:56.406746Z",
     "end_time": "2023-04-26T02:12:56.443366Z"
    }
   }
  },
  {
   "cell_type": "code",
   "execution_count": 102,
   "outputs": [
    {
     "name": "stdout",
     "output_type": "stream",
     "text": [
      "44402\n"
     ]
    }
   ],
   "source": [
    "print(len(PJS))"
   ],
   "metadata": {
    "collapsed": false,
    "ExecuteTime": {
     "start_time": "2023-04-26T02:12:58.582240Z",
     "end_time": "2023-04-26T02:12:58.598267Z"
    }
   }
  },
  {
   "cell_type": "code",
   "execution_count": 103,
   "outputs": [],
   "source": [
    "CDS = []    # 裁定书"
   ],
   "metadata": {
    "collapsed": false,
    "ExecuteTime": {
     "start_time": "2023-04-26T02:13:21.581604Z",
     "end_time": "2023-04-26T02:13:21.595207Z"
    }
   }
  },
  {
   "cell_type": "code",
   "execution_count": 104,
   "outputs": [
    {
     "name": "stdout",
     "output_type": "stream",
     "text": [
      "66440/66440"
     ]
    }
   ],
   "source": [
    "idx = 0\n",
    "# 从all_doc中删除起诉状\n",
    "for file in CPWS:\n",
    "    idx += 1\n",
    "    print(f'\\r{idx}/{len(CPWS)}', end='')\n",
    "    if file.endswith('.xml'):\n",
    "        root = get_xml_data('../resources/static/' + file)\n",
    "        if root.find('QW') is not None and root.find('QW').find('WS')  is not None and root.find('QW').find('WS').find('WSZL') is not None:\n",
    "            if root.find('QW').find('WS').find('WSZL').get('value') == '裁定书':\n",
    "                CDS.append(file)"
   ],
   "metadata": {
    "collapsed": false,
    "ExecuteTime": {
     "start_time": "2023-04-26T02:13:35.144042Z",
     "end_time": "2023-04-26T02:15:16.436673Z"
    }
   }
  },
  {
   "cell_type": "code",
   "execution_count": 105,
   "outputs": [],
   "source": [
    "json.dump(CDS, open('CDS.json', 'w'))"
   ],
   "metadata": {
    "collapsed": false,
    "ExecuteTime": {
     "start_time": "2023-04-26T02:15:16.436673Z",
     "end_time": "2023-04-26T02:15:16.449910Z"
    }
   }
  },
  {
   "cell_type": "code",
   "execution_count": 106,
   "outputs": [
    {
     "name": "stdout",
     "output_type": "stream",
     "text": [
      "21752\n"
     ]
    }
   ],
   "source": [
    "print(len(CDS))"
   ],
   "metadata": {
    "collapsed": false,
    "ExecuteTime": {
     "start_time": "2023-04-26T02:15:16.451911Z",
     "end_time": "2023-04-26T02:15:16.495208Z"
    }
   }
  },
  {
   "cell_type": "code",
   "execution_count": 107,
   "outputs": [],
   "source": [
    "TJS = []    # 调解书"
   ],
   "metadata": {
    "collapsed": false,
    "ExecuteTime": {
     "start_time": "2023-04-26T02:15:16.467925Z",
     "end_time": "2023-04-26T02:15:16.495208Z"
    }
   }
  },
  {
   "cell_type": "code",
   "execution_count": 108,
   "outputs": [
    {
     "name": "stdout",
     "output_type": "stream",
     "text": [
      "66440/66440"
     ]
    }
   ],
   "source": [
    "idx = 0\n",
    "# 从all_doc中删除起诉状\n",
    "for file in CPWS:\n",
    "    idx += 1\n",
    "    print(f'\\r{idx}/{len(CPWS)}', end='')\n",
    "    if file.endswith('.xml'):\n",
    "        root = get_xml_data('../resources/static/' + file)\n",
    "        if root.find('QW') is not None and root.find('QW').find('WS')  is not None and root.find('QW').find('WS').find('WSZL') is not None:\n",
    "            if root.find('QW').find('WS').find('WSZL').get('value') == '调解书':\n",
    "                TJS.append(file)"
   ],
   "metadata": {
    "collapsed": false,
    "ExecuteTime": {
     "start_time": "2023-04-26T02:15:16.484946Z",
     "end_time": "2023-04-26T02:16:59.296271Z"
    }
   }
  },
  {
   "cell_type": "code",
   "execution_count": 109,
   "outputs": [],
   "source": [
    "json.dump(TJS, open('TJS.json', 'w'))"
   ],
   "metadata": {
    "collapsed": false,
    "ExecuteTime": {
     "start_time": "2023-04-26T02:16:59.298217Z",
     "end_time": "2023-04-26T02:16:59.316352Z"
    }
   }
  },
  {
   "cell_type": "code",
   "execution_count": 110,
   "outputs": [
    {
     "name": "stdout",
     "output_type": "stream",
     "text": [
      "87\n"
     ]
    }
   ],
   "source": [
    "print(len(TJS))"
   ],
   "metadata": {
    "collapsed": false,
    "ExecuteTime": {
     "start_time": "2023-04-26T02:16:59.312353Z",
     "end_time": "2023-04-26T02:16:59.357394Z"
    }
   }
  },
  {
   "cell_type": "code",
   "execution_count": null,
   "outputs": [],
   "source": [],
   "metadata": {
    "collapsed": false
   }
  }
 ],
 "metadata": {
  "kernelspec": {
   "display_name": "Python 3",
   "language": "python",
   "name": "python3"
  },
  "language_info": {
   "codemirror_mode": {
    "name": "ipython",
    "version": 2
   },
   "file_extension": ".py",
   "mimetype": "text/x-python",
   "name": "python",
   "nbconvert_exporter": "python",
   "pygments_lexer": "ipython2",
   "version": "2.7.6"
  }
 },
 "nbformat": 4,
 "nbformat_minor": 0
}
