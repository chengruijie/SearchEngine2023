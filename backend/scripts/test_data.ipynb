{
 "cells": [
  {
   "cell_type": "code",
   "execution_count": 1,
   "metadata": {
    "collapsed": true,
    "ExecuteTime": {
     "start_time": "2023-04-25T16:44:30.694699Z",
     "end_time": "2023-04-25T16:44:30.876003Z"
    }
   },
   "outputs": [],
   "source": [
    "import os\n",
    "from bs4 import BeautifulSoup\n",
    "import xml.etree.ElementTree as ET"
   ]
  },
  {
   "cell_type": "markdown",
   "source": [
    "# 读取../../Legal_data下的xml文件并解析，检查oValue和value是否相等"
   ],
   "metadata": {
    "collapsed": false
   }
  },
  {
   "cell_type": "code",
   "execution_count": 30,
   "outputs": [],
   "source": [
    "wrong_xmls = []\n",
    "oValueNotEqualValue = []"
   ],
   "metadata": {
    "collapsed": false,
    "ExecuteTime": {
     "start_time": "2023-04-25T06:38:45.669293Z",
     "end_time": "2023-04-25T06:38:45.675293Z"
    }
   }
  },
  {
   "cell_type": "code",
   "execution_count": 32,
   "outputs": [
    {
     "name": "stdout",
     "output_type": "stream",
     "text": [
      "68417/68417, 89241.xml"
     ]
    }
   ],
   "source": [
    "cnt = 0\n",
    "for root_dir, dirs, files in os.walk('../../Legal_data'):\n",
    "    for file in files:\n",
    "        cnt += 1\n",
    "\n",
    "idx = 0\n",
    "for root_dir, dirs, files in os.walk('../../Legal_data'):\n",
    "    for file in files:\n",
    "        # 进度条\n",
    "        idx += 1\n",
    "        print(f'\\r{idx}/{cnt}, {file}', end='')\n",
    "        if file.endswith('.xml'):\n",
    "            try:\n",
    "                tree = ET.parse(os.path.join(root_dir, file))\n",
    "                root = tree.getroot()\n",
    "                if root.find('QW').get('oValue') != root.find('QW').get('value'):\n",
    "                    oValueNotEqualValue.append(os.path.join(root_dir, file))\n",
    "            except:\n",
    "                wrong_xmls.append(os.path.join(root_dir, file))"
   ],
   "metadata": {
    "collapsed": false,
    "ExecuteTime": {
     "start_time": "2023-04-25T06:38:57.253365Z",
     "end_time": "2023-04-25T06:43:18.270756Z"
    }
   }
  },
  {
   "cell_type": "code",
   "execution_count": 33,
   "outputs": [
    {
     "data": {
      "text/plain": "['../../Legal_data\\\\49489.xml',\n '../../Legal_data\\\\50180.xml',\n '../../Legal_data\\\\50182.xml',\n '../../Legal_data\\\\52626.xml',\n '../../Legal_data\\\\53366.xml',\n '../../Legal_data\\\\53874.xml',\n '../../Legal_data\\\\56139.xml',\n '../../Legal_data\\\\56294.xml',\n '../../Legal_data\\\\57962.xml',\n '../../Legal_data\\\\58806.xml',\n '../../Legal_data\\\\58988.xml',\n '../../Legal_data\\\\62176.xml',\n '../../Legal_data\\\\62472.xml',\n '../../Legal_data\\\\62941.xml',\n '../../Legal_data\\\\63161.xml',\n '../../Legal_data\\\\63562.xml',\n '../../Legal_data\\\\66263.xml',\n '../../Legal_data\\\\67260.xml',\n '../../Legal_data\\\\67405.xml',\n '../../Legal_data\\\\68307.xml',\n '../../Legal_data\\\\69348.xml',\n '../../Legal_data\\\\69504.xml',\n '../../Legal_data\\\\69597.xml',\n '../../Legal_data\\\\70269.xml',\n '../../Legal_data\\\\71208.xml',\n '../../Legal_data\\\\71909.xml',\n '../../Legal_data\\\\73535.xml',\n '../../Legal_data\\\\74001.xml',\n '../../Legal_data\\\\76812.xml',\n '../../Legal_data\\\\77079.xml',\n '../../Legal_data\\\\79563.xml',\n '../../Legal_data\\\\79705.xml']"
     },
     "execution_count": 33,
     "metadata": {},
     "output_type": "execute_result"
    }
   ],
   "source": [
    "wrong_xmls"
   ],
   "metadata": {
    "collapsed": false,
    "ExecuteTime": {
     "start_time": "2023-04-25T06:45:40.206620Z",
     "end_time": "2023-04-25T06:45:40.213788Z"
    }
   }
  },
  {
   "cell_type": "code",
   "execution_count": 34,
   "outputs": [
    {
     "data": {
      "text/plain": "[]"
     },
     "execution_count": 34,
     "metadata": {},
     "output_type": "execute_result"
    }
   ],
   "source": [
    "oValueNotEqualValue"
   ],
   "metadata": {
    "collapsed": false,
    "ExecuteTime": {
     "start_time": "2023-04-25T06:45:42.103277Z",
     "end_time": "2023-04-25T06:45:42.110259Z"
    }
   }
  },
  {
   "cell_type": "code",
   "execution_count": 76,
   "outputs": [],
   "source": [
    "# 错误的页面：\n",
    "null_xmls = ['../../Legal_data\\\\49489.xml',\n",
    " '../../Legal_data\\\\50180.xml',\n",
    " '../../Legal_data\\\\50182.xml',\n",
    " '../../Legal_data\\\\52626.xml',\n",
    " '../../Legal_data\\\\53366.xml',\n",
    " '../../Legal_data\\\\53874.xml',\n",
    " '../../Legal_data\\\\56139.xml',\n",
    " '../../Legal_data\\\\56294.xml',\n",
    " '../../Legal_data\\\\57962.xml',\n",
    " '../../Legal_data\\\\58806.xml',\n",
    " '../../Legal_data\\\\58988.xml',\n",
    " '../../Legal_data\\\\62176.xml',\n",
    " '../../Legal_data\\\\62472.xml',\n",
    " '../../Legal_data\\\\62941.xml',\n",
    " '../../Legal_data\\\\63161.xml',\n",
    " '../../Legal_data\\\\63562.xml',\n",
    " '../../Legal_data\\\\66263.xml',\n",
    " '../../Legal_data\\\\67260.xml',\n",
    " '../../Legal_data\\\\67405.xml',\n",
    " '../../Legal_data\\\\68307.xml',\n",
    " '../../Legal_data\\\\69348.xml',\n",
    " '../../Legal_data\\\\69504.xml',\n",
    " '../../Legal_data\\\\69597.xml',\n",
    " '../../Legal_data\\\\70269.xml',\n",
    " '../../Legal_data\\\\71208.xml',\n",
    " '../../Legal_data\\\\71909.xml',\n",
    " '../../Legal_data\\\\73535.xml',\n",
    " '../../Legal_data\\\\74001.xml',\n",
    " '../../Legal_data\\\\76812.xml',\n",
    " '../../Legal_data\\\\77079.xml',\n",
    " '../../Legal_data\\\\79563.xml',\n",
    " '../../Legal_data\\\\79705.xml']\n",
    "\n",
    "# 所有文件里oValue都等于Value"
   ],
   "metadata": {
    "collapsed": false,
    "ExecuteTime": {
     "start_time": "2023-04-25T08:49:20.390805Z",
     "end_time": "2023-04-25T08:49:20.395220Z"
    }
   }
  },
  {
   "cell_type": "code",
   "execution_count": 2,
   "outputs": [],
   "source": [
    "# 找各项的枚举值，检查某些项是否为多对多\n",
    "WSZZDW = {}  # 文书制作单位\n",
    "FYWSZL = {} # 法院文书种类\n",
    "# JBFY = set()  # 经办法院\n",
    "# AH = set()  # 案号\n",
    "AH_is_multi = False\n",
    "AJLB = {}  # 案件类别\n",
    "AJLX = {}  # 案件类型\n",
    "WSZL = {}  # 文书种类\n",
    "SPCX = {}  # 审判程序\n",
    "\n",
    "different_types = {}\n",
    "wrong_xmls = []"
   ],
   "metadata": {
    "collapsed": false,
    "ExecuteTime": {
     "start_time": "2023-04-25T16:44:36.158465Z",
     "end_time": "2023-04-25T16:44:36.168650Z"
    }
   }
  },
  {
   "cell_type": "code",
   "execution_count": 3,
   "outputs": [
    {
     "name": "stdout",
     "output_type": "stream",
     "text": [
      "68417/68417, 89241.xml"
     ]
    }
   ],
   "source": [
    "cnt = 0\n",
    "for root_dir, dirs, files in os.walk('../../Legal_data'):\n",
    "    for file in files:\n",
    "        cnt += 1\n",
    "\n",
    "idx = 0\n",
    "for root_dir, dirs, files in os.walk('../../Legal_data'):\n",
    "    for file in files:\n",
    "        # 进度条\n",
    "        idx += 1\n",
    "        print(f'\\r{idx}/{cnt}, {file}', end='')\n",
    "        if file.endswith('.xml'):\n",
    "            try:\n",
    "                tree = ET.parse(os.path.join(root_dir, file))\n",
    "                root = tree.getroot().find('QW').find('WS')\n",
    "\n",
    "                try:\n",
    "                    WSZZDW_item = root.find('WSZZDW').get('value')\n",
    "                    if WSZZDW_item not in WSZZDW:\n",
    "                        WSZZDW[WSZZDW_item] = file\n",
    "                        if file in different_types:\n",
    "                            different_types[file][\"文书制作单位\"]=WSZZDW_item\n",
    "                        else:\n",
    "                            different_types[file]={}\n",
    "                            different_types[file][\"文书制作单位\"]=WSZZDW_item\n",
    "                except:\n",
    "                    pass\n",
    "\n",
    "                try:\n",
    "                    FYWSZL_item = root.find('FYWSZL').get('value')\n",
    "                    if FYWSZL_item not in FYWSZL:\n",
    "                        FYWSZL[FYWSZL_item] = file\n",
    "                        if file in different_types:\n",
    "                            different_types[file][\"法院文书种类\"]=FYWSZL_item\n",
    "                        else:\n",
    "                            different_types[file]={}\n",
    "                            different_types[file][\"法院文书种类\"]=FYWSZL_item\n",
    "                except:\n",
    "                    pass\n",
    "\n",
    "                try:\n",
    "                    AJLB_item = root.find('AJLB').get('value')\n",
    "                    if AJLB_item not in AJLB:\n",
    "                        AJLB[AJLB_item] = file\n",
    "                        if file in different_types:\n",
    "                            different_types[file][\"案件类别\"]=AJLB_item\n",
    "                        else:\n",
    "                            different_types[file]={}\n",
    "                            different_types[file][\"案件类别\"]=AJLB_item\n",
    "                except:\n",
    "                    pass\n",
    "\n",
    "                try:\n",
    "                    AJLX_item = root.find('AJLX').get('value')\n",
    "                    if AJLX_item not in AJLX:\n",
    "                        AJLX[AJLX_item] = file\n",
    "                        if file in different_types:\n",
    "                            different_types[file][\"案件类型\"]=AJLX_item\n",
    "                        else:\n",
    "                            different_types[file]={}\n",
    "                            different_types[file][\"案件类型\"]=AJLX_item\n",
    "                except:\n",
    "                    pass\n",
    "\n",
    "                try:\n",
    "                    WSZL_item = root.find('WSZL').get('value')\n",
    "                    if WSZL_item not in WSZL:\n",
    "                        WSZL[WSZL_item] = file\n",
    "                        if file in different_types:\n",
    "                            different_types[file][\"文书种类\"]=WSZL_item\n",
    "                        else:\n",
    "                            different_types[file]={}\n",
    "                            different_types[file][\"文书种类\"]=WSZL_item\n",
    "                except:\n",
    "                    pass\n",
    "\n",
    "                try:\n",
    "                    SPCX_item = root.find('SPCX').get('value')\n",
    "                    if SPCX_item not in SPCX:\n",
    "                        SPCX[SPCX_item] = file\n",
    "                        if file in different_types:\n",
    "                            different_types[file][\"审判程序\"]=SPCX_item\n",
    "                        else:\n",
    "                            different_types[file]={}\n",
    "                            different_types[file][\"审判程序\"]=SPCX_item\n",
    "                except:\n",
    "                    pass\n",
    "\n",
    "            except:\n",
    "                wrong_xmls.append(os.path.join(root_dir, file))\n",
    "\n",
    "\n",
    "\n"
   ],
   "metadata": {
    "collapsed": false,
    "ExecuteTime": {
     "start_time": "2023-04-25T16:44:37.304321Z",
     "end_time": "2023-04-25T16:48:35.151821Z"
    }
   }
  },
  {
   "cell_type": "code",
   "execution_count": 4,
   "outputs": [
    {
     "name": "stdout",
     "output_type": "stream",
     "text": [
      "FYWSZL: {'裁判文书': '18697.xml', '决定书': '22085.xml', '通知书': '39048.xml', '起诉状': '46374.xml'}\n",
      "AJLB: {'民事案件': '18697.xml', '行政案件': '18798.xml', '刑事案件': '18914.xml', '执行案件': '19148.xml', '刑罚变更案件': '22085.xml', '赔偿案件': '24025.xml'}\n",
      "AJLX: {'民事一审案件': '18697.xml', '行政一审案件': '18798.xml', '民事二审案件': '18853.xml', '刑罚变更案件': '18914.xml', '刑事二审案件': '18935.xml', '刑事一审案件': '18976.xml', '民事再审案件': '19025.xml', '普通执行案件': '19148.xml', '民事再审复查与审判监督案件': '19254.xml', '民事其他案件': '19321.xml', '民事诉讼保全案件': '19361.xml', '行政再审复查与审判监督案件': '19408.xml', '行政二审案件': '19442.xml', '执行异议案件': '19453.xml', '刑事再审案件': '19466.xml', '行政其他案件': '19583.xml', '执行复议案件': '20008.xml', '刑事其他案件': '20039.xml', '刑事再审复查与审判监督案件': '20586.xml', '刑事复核案件': '21479.xml', '行政再审案件': '22462.xml', '民事特别程序案件': '23228.xml', '赔偿案件': '24025.xml', '赔偿确认案件': '26678.xml', '行政非诉执行审查案件': '32311.xml', '刑事诉讼保全案件': '45535.xml', '破产案件': '49573.xml'}\n",
      "WSZL: {'判决书': '18697.xml', '裁定书': '18798.xml', '起诉书': '19102.xml', '决定书': '20586.xml', '不起诉书': '23027.xml', '调解书': '23499.xml', '应诉通知书': '39048.xml', '起诉状': '46374.xml', '暂予监外执行案例': '86961.xml'}\n",
      "SPCX: {'一审案件': '18697.xml', '二审案件': '18853.xml', '刑罚变更案件': '18914.xml', '再审案件': '19025.xml', '再审复查与审判监督案件': '19254.xml', '复核案件': '21479.xml', '特别程序案件': '23228.xml', '强制医疗案件': '25912.xml', '非诉执行审查案件': '32311.xml', '破产案件': '49573.xml'}\n",
      "different_types: {'18697.xml': {'文书制作单位': '法院', '法院文书种类': '裁判文书', '案件类别': '民事案件', '案件类型': '民事一审案件', '文书种类': '判决书', '审判程序': '一审案件'}, '18798.xml': {'案件类别': '行政案件', '案件类型': '行政一审案件', '文书种类': '裁定书'}, '18853.xml': {'案件类型': '民事二审案件', '审判程序': '二审案件'}, '18914.xml': {'案件类别': '刑事案件', '案件类型': '刑罚变更案件', '审判程序': '刑罚变更案件'}, '18935.xml': {'案件类型': '刑事二审案件'}, '18976.xml': {'案件类型': '刑事一审案件'}, '19025.xml': {'案件类型': '民事再审案件', '审判程序': '再审案件'}, '19102.xml': {'文书制作单位': '检察院', '文书种类': '起诉书'}, '19148.xml': {'案件类别': '执行案件', '案件类型': '普通执行案件'}, '19254.xml': {'案件类型': '民事再审复查与审判监督案件', '审判程序': '再审复查与审判监督案件'}, '19321.xml': {'案件类型': '民事其他案件'}, '19361.xml': {'案件类型': '民事诉讼保全案件'}, '19408.xml': {'案件类型': '行政再审复查与审判监督案件'}, '19442.xml': {'案件类型': '行政二审案件'}, '19453.xml': {'案件类型': '执行异议案件'}, '19466.xml': {'案件类型': '刑事再审案件'}, '19583.xml': {'案件类型': '行政其他案件'}, '20008.xml': {'案件类型': '执行复议案件'}, '20039.xml': {'案件类型': '刑事其他案件'}, '20586.xml': {'案件类型': '刑事再审复查与审判监督案件', '文书种类': '决定书'}, '21479.xml': {'案件类型': '刑事复核案件', '审判程序': '复核案件'}, '22085.xml': {'法院文书种类': '决定书', '案件类别': '刑罚变更案件'}, '22462.xml': {'案件类型': '行政再审案件'}, '23027.xml': {'文书种类': '不起诉书'}, '23228.xml': {'案件类型': '民事特别程序案件', '审判程序': '特别程序案件'}, '23499.xml': {'文书种类': '调解书'}, '24025.xml': {'案件类别': '赔偿案件', '案件类型': '赔偿案件'}, '25912.xml': {'审判程序': '强制医疗案件'}, '26678.xml': {'案件类型': '赔偿确认案件'}, '32311.xml': {'案件类型': '行政非诉执行审查案件', '审判程序': '非诉执行审查案件'}, '39048.xml': {'法院文书种类': '通知书', '文书种类': '应诉通知书'}, '45535.xml': {'案件类型': '刑事诉讼保全案件'}, '46374.xml': {'法院文书种类': '起诉状', '文书种类': '起诉状'}, '49573.xml': {'案件类型': '破产案件', '审判程序': '破产案件'}, '86961.xml': {'文书制作单位': '司法行政', '文书种类': '暂予监外执行案例'}}\n"
     ]
    }
   ],
   "source": [
    "print(f'FYWSZL: {FYWSZL}')\n",
    "print(f'AJLB: {AJLB}')\n",
    "print(f'AJLX: {AJLX}')\n",
    "print(f'WSZL: {WSZL}')\n",
    "print(f'SPCX: {SPCX}')\n",
    "print(f'different_types: {different_types}')"
   ],
   "metadata": {
    "collapsed": false,
    "ExecuteTime": {
     "start_time": "2023-04-25T16:49:23.049414Z",
     "end_time": "2023-04-25T16:49:23.074968Z"
    }
   }
  },
  {
   "cell_type": "code",
   "execution_count": 5,
   "outputs": [],
   "source": [
    "# 把它们序列化输出到json\n",
    "import json\n",
    "\n",
    "json.dump(WSZZDW, open('文书制作单位.json', 'w', encoding='utf-8'), ensure_ascii=False)\n",
    "json.dump(FYWSZL, open('法院文书种类.json', 'w', encoding='utf-8'), ensure_ascii=False)\n",
    "json.dump(AJLB, open('案件类别.json', 'w', encoding='utf-8'), ensure_ascii=False)\n",
    "json.dump(AJLX, open('案件类型.json', 'w', encoding='utf-8'), ensure_ascii=False)\n",
    "json.dump(WSZL, open('文书种类.json', 'w', encoding='utf-8'), ensure_ascii=False)\n",
    "json.dump(SPCX, open('审判程序.json', 'w', encoding='utf-8'), ensure_ascii=False)\n",
    "json.dump(different_types, open('different_types.json', 'w', encoding='utf-8'), ensure_ascii=False)\n",
    "json.dump(wrong_xmls, open('wrong_xmls.json', 'w', encoding='utf-8'), ensure_ascii=False)"
   ],
   "metadata": {
    "collapsed": false,
    "ExecuteTime": {
     "start_time": "2023-04-25T16:49:35.367077Z",
     "end_time": "2023-04-25T16:49:35.380642Z"
    }
   }
  },
  {
   "cell_type": "code",
   "execution_count": null,
   "outputs": [],
   "source": [],
   "metadata": {
    "collapsed": false
   }
  },
  {
   "cell_type": "code",
   "execution_count": 9,
   "outputs": [
    {
     "name": "stdout",
     "output_type": "stream",
     "text": [
      "cp ..\\..\\Legal_data\\18697.xml cases\\文书制作单位\\法院.xml\n",
      "cp ..\\..\\Legal_data\\18697.xml cases\\法院文书种类\\裁判文书.xml\n",
      "cp ..\\..\\Legal_data\\18697.xml cases\\案件类别\\民事案件.xml\n",
      "cp ..\\..\\Legal_data\\18697.xml cases\\案件类型\\民事一审案件.xml\n",
      "cp ..\\..\\Legal_data\\18697.xml cases\\文书种类\\判决书.xml\n",
      "cp ..\\..\\Legal_data\\18697.xml cases\\审判程序\\一审案件.xml\n",
      "cp ..\\..\\Legal_data\\18798.xml cases\\案件类别\\行政案件.xml\n",
      "cp ..\\..\\Legal_data\\18798.xml cases\\案件类型\\行政一审案件.xml\n",
      "cp ..\\..\\Legal_data\\18798.xml cases\\文书种类\\裁定书.xml\n",
      "cp ..\\..\\Legal_data\\18853.xml cases\\案件类型\\民事二审案件.xml\n",
      "cp ..\\..\\Legal_data\\18853.xml cases\\审判程序\\二审案件.xml\n",
      "cp ..\\..\\Legal_data\\18914.xml cases\\案件类别\\刑事案件.xml\n",
      "cp ..\\..\\Legal_data\\18914.xml cases\\案件类型\\刑罚变更案件.xml\n",
      "cp ..\\..\\Legal_data\\18914.xml cases\\审判程序\\刑罚变更案件.xml\n",
      "cp ..\\..\\Legal_data\\18935.xml cases\\案件类型\\刑事二审案件.xml\n",
      "cp ..\\..\\Legal_data\\18976.xml cases\\案件类型\\刑事一审案件.xml\n",
      "cp ..\\..\\Legal_data\\19025.xml cases\\案件类型\\民事再审案件.xml\n",
      "cp ..\\..\\Legal_data\\19025.xml cases\\审判程序\\再审案件.xml\n",
      "cp ..\\..\\Legal_data\\19102.xml cases\\文书制作单位\\检察院.xml\n",
      "cp ..\\..\\Legal_data\\19102.xml cases\\文书种类\\起诉书.xml\n",
      "cp ..\\..\\Legal_data\\19148.xml cases\\案件类别\\执行案件.xml\n",
      "cp ..\\..\\Legal_data\\19148.xml cases\\案件类型\\普通执行案件.xml\n",
      "cp ..\\..\\Legal_data\\19254.xml cases\\案件类型\\民事再审复查与审判监督案件.xml\n",
      "cp ..\\..\\Legal_data\\19254.xml cases\\审判程序\\再审复查与审判监督案件.xml\n",
      "cp ..\\..\\Legal_data\\19321.xml cases\\案件类型\\民事其他案件.xml\n",
      "cp ..\\..\\Legal_data\\19361.xml cases\\案件类型\\民事诉讼保全案件.xml\n",
      "cp ..\\..\\Legal_data\\19408.xml cases\\案件类型\\行政再审复查与审判监督案件.xml\n",
      "cp ..\\..\\Legal_data\\19442.xml cases\\案件类型\\行政二审案件.xml\n",
      "cp ..\\..\\Legal_data\\19453.xml cases\\案件类型\\执行异议案件.xml\n",
      "cp ..\\..\\Legal_data\\19466.xml cases\\案件类型\\刑事再审案件.xml\n",
      "cp ..\\..\\Legal_data\\19583.xml cases\\案件类型\\行政其他案件.xml\n",
      "cp ..\\..\\Legal_data\\20008.xml cases\\案件类型\\执行复议案件.xml\n",
      "cp ..\\..\\Legal_data\\20039.xml cases\\案件类型\\刑事其他案件.xml\n",
      "cp ..\\..\\Legal_data\\20586.xml cases\\案件类型\\刑事再审复查与审判监督案件.xml\n",
      "cp ..\\..\\Legal_data\\20586.xml cases\\文书种类\\决定书.xml\n",
      "cp ..\\..\\Legal_data\\21479.xml cases\\案件类型\\刑事复核案件.xml\n",
      "cp ..\\..\\Legal_data\\21479.xml cases\\审判程序\\复核案件.xml\n",
      "cp ..\\..\\Legal_data\\22085.xml cases\\法院文书种类\\决定书.xml\n",
      "cp ..\\..\\Legal_data\\22085.xml cases\\案件类别\\刑罚变更案件.xml\n",
      "cp ..\\..\\Legal_data\\22462.xml cases\\案件类型\\行政再审案件.xml\n",
      "cp ..\\..\\Legal_data\\23027.xml cases\\文书种类\\不起诉书.xml\n",
      "cp ..\\..\\Legal_data\\23228.xml cases\\案件类型\\民事特别程序案件.xml\n",
      "cp ..\\..\\Legal_data\\23228.xml cases\\审判程序\\特别程序案件.xml\n",
      "cp ..\\..\\Legal_data\\23499.xml cases\\文书种类\\调解书.xml\n",
      "cp ..\\..\\Legal_data\\24025.xml cases\\案件类别\\赔偿案件.xml\n",
      "cp ..\\..\\Legal_data\\24025.xml cases\\案件类型\\赔偿案件.xml\n",
      "cp ..\\..\\Legal_data\\25912.xml cases\\审判程序\\强制医疗案件.xml\n",
      "cp ..\\..\\Legal_data\\26678.xml cases\\案件类型\\赔偿确认案件.xml\n",
      "cp ..\\..\\Legal_data\\32311.xml cases\\案件类型\\行政非诉执行审查案件.xml\n",
      "cp ..\\..\\Legal_data\\32311.xml cases\\审判程序\\非诉执行审查案件.xml\n",
      "cp ..\\..\\Legal_data\\39048.xml cases\\法院文书种类\\通知书.xml\n",
      "cp ..\\..\\Legal_data\\39048.xml cases\\文书种类\\应诉通知书.xml\n",
      "cp ..\\..\\Legal_data\\45535.xml cases\\案件类型\\刑事诉讼保全案件.xml\n",
      "cp ..\\..\\Legal_data\\46374.xml cases\\法院文书种类\\起诉状.xml\n",
      "cp ..\\..\\Legal_data\\46374.xml cases\\文书种类\\起诉状.xml\n",
      "cp ..\\..\\Legal_data\\49573.xml cases\\案件类型\\破产案件.xml\n",
      "cp ..\\..\\Legal_data\\49573.xml cases\\审判程序\\破产案件.xml\n",
      "cp ..\\..\\Legal_data\\86961.xml cases\\文书制作单位\\司法行政.xml\n",
      "cp ..\\..\\Legal_data\\86961.xml cases\\文书种类\\暂予监外执行案例.xml\n"
     ]
    }
   ],
   "source": [
    "import os\n",
    "\n",
    "# 遍历different_types，文件拷贝到当前目录\n",
    "for k,v in different_types.items():\n",
    "    print(f'cp ..\\\\..\\\\Legal_data\\\\{k} cases\\\\{v[0]}_{v[1]}.xml')\n",
    "    os.system(f'cp ..\\\\..\\\\Legal_data\\\\{k} cases\\\\{v[0]}_{v[1]}.xml')\n"
   ],
   "metadata": {
    "collapsed": false,
    "ExecuteTime": {
     "start_time": "2023-04-25T16:52:59.841063Z",
     "end_time": "2023-04-25T16:52:59.848734Z"
    }
   }
  },
  {
   "cell_type": "code",
   "execution_count": 8,
   "outputs": [
    {
     "data": {
      "text/plain": "{'文书制作单位': '法院',\n '法院文书种类': '裁判文书',\n '案件类别': '民事案件',\n '案件类型': '民事一审案件',\n '文书种类': '判决书',\n '审判程序': '一审案件'}"
     },
     "execution_count": 8,
     "metadata": {},
     "output_type": "execute_result"
    }
   ],
   "source": [
    "different_types"
   ],
   "metadata": {
    "collapsed": false,
    "ExecuteTime": {
     "start_time": "2023-04-25T16:52:39.396772Z",
     "end_time": "2023-04-25T16:52:39.404772Z"
    }
   }
  },
  {
   "cell_type": "code",
   "execution_count": null,
   "outputs": [],
   "source": [],
   "metadata": {
    "collapsed": false
   }
  }
 ],
 "metadata": {
  "kernelspec": {
   "display_name": "Python 3",
   "language": "python",
   "name": "python3"
  },
  "language_info": {
   "codemirror_mode": {
    "name": "ipython",
    "version": 2
   },
   "file_extension": ".py",
   "mimetype": "text/x-python",
   "name": "python",
   "nbconvert_exporter": "python",
   "pygments_lexer": "ipython2",
   "version": "2.7.6"
  }
 },
 "nbformat": 4,
 "nbformat_minor": 0
}
